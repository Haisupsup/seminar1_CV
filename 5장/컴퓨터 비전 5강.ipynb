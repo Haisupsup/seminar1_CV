{
 "cells": [
  {
   "cell_type": "markdown",
   "id": "153127e2-d72d-4706-84d2-f2cfbc34d30b",
   "metadata": {},
   "source": [
    "### 해리스 특징점 검출"
   ]
  },
  {
   "cell_type": "code",
   "execution_count": 1,
   "id": "f377d1fd-a89f-4c0b-b623-af920c4e8922",
   "metadata": {},
   "outputs": [],
   "source": [
    "#입력 영상 생성\n",
    "import cv2 as cv\n",
    "import numpy as np\n",
    "\n",
    "img = np.array([[0,0,0,0,0,0,0,0,0,0],\n",
    "                [0,0,0,0,0,0,0,0,0,0],\n",
    "                [0,0,0,1,0,0,0,0,0,0],\n",
    "                [0,0,0,1,1,0,0,0,0,0],\n",
    "                [0,0,0,1,1,1,0,0,0,0],\n",
    "                [0,0,0,1,1,1,1,0,0,0],\n",
    "                [0,0,0,0,0,0,0,0,0,0],\n",
    "                [0,0,0,0,0,0,0,0,0,0],\n",
    "                [0,0,0,0,0,0,0,0,0,0]], dtype = np.float32)"
   ]
  },
  {
   "cell_type": "code",
   "execution_count": 2,
   "id": "08eba10d-daac-4f45-aa0c-ab337a0e5782",
   "metadata": {},
   "outputs": [],
   "source": [
    "#필터 생성 및 미분 값과 맵 C 계산\n",
    "ux = np.array([[-1,0,1]])\n",
    "uy = np.array([-1,0,1]).transpose()\n",
    "k = cv.getGaussianKernel(3,1)\n",
    "g = np.outer(k, k.transpose())\n",
    "\n",
    "dy = cv.filter2D(img, cv.CV_32F, uy)\n",
    "dx = cv.filter2D(img, cv.CV_32F, ux)\n",
    "dyy = dy*dy\n",
    "dxx = dx*dx\n",
    "dyx = dy*dx\n",
    "gdyy = cv.filter2D(dyy, cv.CV_32F, g)\n",
    "gdxx = cv.filter2D(dxx, cv.CV_32F, g)\n",
    "gdyx = cv.filter2D(dyx, cv.CV_32F, g)\n",
    "C = (gdyy*gdxx-gdyx*gdyx) - 0.04*(gdyy+gdxx)*(gdyy+gdxx)"
   ]
  },
  {
   "cell_type": "code",
   "execution_count": 3,
   "id": "aa22f71c-9a4c-4313-bfc8-d9beee2f16f7",
   "metadata": {},
   "outputs": [
    {
     "name": "stdout",
     "output_type": "stream",
     "text": [
      "[[ 0.  0.  0.  0.  0.  0.  0.  0.  0.  0.]\n",
      " [ 0.  0.  0.  1.  0.  0.  0.  0.  0.  0.]\n",
      " [ 0.  0.  0.  1.  1.  0.  0.  0.  0.  0.]\n",
      " [ 0.  0.  0.  0.  1.  1.  0.  0.  0.  0.]\n",
      " [ 0.  0.  0.  0.  0.  1.  1.  0.  0.  0.]\n",
      " [ 0.  0.  0. -1. -1. -1.  0.  0.  0.  0.]\n",
      " [ 0.  0.  0. -1. -1. -1. -1.  0.  0.  0.]\n",
      " [ 0.  0.  0.  0.  0.  0.  0.  0.  0.  0.]\n",
      " [ 0.  0.  0.  0.  0.  0.  0.  0.  0.  0.]]\n",
      "[[ 0.  0.  0.  0.  0.  0.  0.  0.  0.  0.]\n",
      " [ 0.  0.  0.  0.  0.  0.  0.  0.  0.  0.]\n",
      " [ 0.  0.  1.  0. -1.  0.  0.  0.  0.  0.]\n",
      " [ 0.  0.  1.  1. -1. -1.  0.  0.  0.  0.]\n",
      " [ 0.  0.  1.  1.  0. -1. -1.  0.  0.  0.]\n",
      " [ 0.  0.  1.  1.  0.  0. -1. -1.  0.  0.]\n",
      " [ 0.  0.  0.  0.  0.  0.  0.  0.  0.  0.]\n",
      " [ 0.  0.  0.  0.  0.  0.  0.  0.  0.  0.]\n",
      " [ 0.  0.  0.  0.  0.  0.  0.  0.  0.  0.]]\n",
      "[[0. 0. 0. 0. 0. 0. 0. 0. 0. 0.]\n",
      " [0. 0. 0. 1. 0. 0. 0. 0. 0. 0.]\n",
      " [0. 0. 0. 1. 1. 0. 0. 0. 0. 0.]\n",
      " [0. 0. 0. 0. 1. 1. 0. 0. 0. 0.]\n",
      " [0. 0. 0. 0. 0. 1. 1. 0. 0. 0.]\n",
      " [0. 0. 0. 1. 1. 1. 0. 0. 0. 0.]\n",
      " [0. 0. 0. 1. 1. 1. 1. 0. 0. 0.]\n",
      " [0. 0. 0. 0. 0. 0. 0. 0. 0. 0.]\n",
      " [0. 0. 0. 0. 0. 0. 0. 0. 0. 0.]]\n",
      "[[0. 0. 0. 0. 0. 0. 0. 0. 0. 0.]\n",
      " [0. 0. 0. 0. 0. 0. 0. 0. 0. 0.]\n",
      " [0. 0. 1. 0. 1. 0. 0. 0. 0. 0.]\n",
      " [0. 0. 1. 1. 1. 1. 0. 0. 0. 0.]\n",
      " [0. 0. 1. 1. 0. 1. 1. 0. 0. 0.]\n",
      " [0. 0. 1. 1. 0. 0. 1. 1. 0. 0.]\n",
      " [0. 0. 0. 0. 0. 0. 0. 0. 0. 0.]\n",
      " [0. 0. 0. 0. 0. 0. 0. 0. 0. 0.]\n",
      " [0. 0. 0. 0. 0. 0. 0. 0. 0. 0.]]\n",
      "[[ 0.  0.  0.  0.  0.  0.  0.  0.  0.  0.]\n",
      " [ 0.  0.  0.  0.  0.  0.  0.  0.  0.  0.]\n",
      " [ 0.  0.  0.  0. -1.  0.  0.  0.  0.  0.]\n",
      " [ 0.  0.  0.  0. -1. -1.  0.  0.  0.  0.]\n",
      " [ 0.  0.  0.  0.  0. -1. -1.  0.  0.  0.]\n",
      " [ 0.  0.  0. -1. -0. -0. -0. -0.  0.  0.]\n",
      " [ 0.  0.  0. -0. -0. -0. -0.  0.  0.  0.]\n",
      " [ 0.  0.  0.  0.  0.  0.  0.  0.  0.  0.]\n",
      " [ 0.  0.  0.  0.  0.  0.  0.  0.  0.  0.]]\n",
      "[[0.   0.   0.15 0.25 0.15 0.   0.   0.   0.   0.  ]\n",
      " [0.   0.   0.2  0.4  0.32 0.08 0.   0.   0.   0.  ]\n",
      " [0.   0.   0.2  0.53 0.6  0.32 0.08 0.   0.   0.  ]\n",
      " [0.   0.   0.08 0.32 0.6  0.6  0.32 0.08 0.   0.  ]\n",
      " [0.   0.   0.08 0.27 0.6  0.73 0.48 0.12 0.   0.  ]\n",
      " [0.   0.   0.2  0.53 0.8  0.8  0.52 0.15 0.   0.  ]\n",
      " [0.   0.   0.2  0.53 0.73 0.65 0.4  0.12 0.   0.  ]\n",
      " [0.   0.   0.08 0.2  0.27 0.27 0.2  0.08 0.   0.  ]\n",
      " [0.   0.   0.   0.   0.   0.   0.   0.   0.   0.  ]]\n",
      "[[0.   0.   0.   0.   0.   0.   0.   0.   0.   0.  ]\n",
      " [0.   0.08 0.12 0.15 0.12 0.08 0.   0.   0.   0.  ]\n",
      " [0.   0.2  0.4  0.52 0.48 0.32 0.08 0.   0.   0.  ]\n",
      " [0.   0.27 0.65 0.8  0.73 0.6  0.32 0.08 0.   0.  ]\n",
      " [0.   0.27 0.73 0.8  0.6  0.6  0.6  0.32 0.08 0.  ]\n",
      " [0.   0.2  0.53 0.53 0.27 0.32 0.53 0.4  0.12 0.  ]\n",
      " [0.   0.08 0.2  0.2  0.08 0.08 0.2  0.2  0.08 0.  ]\n",
      " [0.   0.   0.   0.   0.   0.   0.   0.   0.   0.  ]\n",
      " [0.   0.   0.   0.   0.   0.   0.   0.   0.   0.  ]]\n",
      "[[ 0.    0.    0.    0.    0.    0.    0.    0.    0.    0.  ]\n",
      " [ 0.    0.    0.   -0.08 -0.12 -0.08  0.    0.    0.    0.  ]\n",
      " [ 0.    0.    0.   -0.2  -0.4  -0.32 -0.08  0.    0.    0.  ]\n",
      " [ 0.    0.    0.   -0.2  -0.53 -0.6  -0.32 -0.08  0.    0.  ]\n",
      " [ 0.    0.   -0.08 -0.2  -0.4  -0.53 -0.4  -0.12  0.    0.  ]\n",
      " [ 0.    0.   -0.12 -0.2  -0.2  -0.2  -0.2  -0.08  0.    0.  ]\n",
      " [ 0.    0.   -0.08 -0.12 -0.08  0.    0.    0.    0.    0.  ]\n",
      " [ 0.    0.    0.    0.    0.    0.    0.    0.    0.    0.  ]\n",
      " [ 0.    0.    0.    0.    0.    0.    0.    0.    0.    0.  ]]\n",
      "[[ 0.    0.   -0.   -0.   -0.    0.    0.    0.    0.    0.  ]\n",
      " [ 0.   -0.    0.02  0.04  0.02 -0.    0.    0.    0.    0.  ]\n",
      " [ 0.   -0.    0.07  0.19  0.08 -0.02 -0.    0.    0.    0.  ]\n",
      " [ 0.   -0.    0.03  0.17  0.09 -0.06 -0.02 -0.    0.    0.  ]\n",
      " [ 0.   -0.    0.02  0.13  0.14  0.09  0.08  0.02 -0.    0.  ]\n",
      " [ 0.   -0.    0.07  0.19  0.13  0.17  0.19  0.04 -0.    0.  ]\n",
      " [ 0.   -0.    0.03  0.07  0.02  0.03  0.07  0.02 -0.    0.  ]\n",
      " [ 0.    0.   -0.   -0.   -0.   -0.   -0.   -0.    0.    0.  ]\n",
      " [ 0.    0.    0.    0.    0.    0.    0.    0.    0.    0.  ]]\n",
      "[[0. 0. 0. 0. 0. 0. 0. 0. 0. 0.]\n",
      " [0. 0. 0. 0. 0. 0. 0. 0. 0. 0.]\n",
      " [0. 0. 0. 9. 0. 0. 0. 0. 0. 0.]\n",
      " [0. 0. 0. 1. 1. 0. 0. 0. 0. 0.]\n",
      " [0. 0. 0. 1. 1. 1. 0. 0. 0. 0.]\n",
      " [0. 0. 0. 9. 1. 1. 9. 0. 0. 0.]\n",
      " [0. 0. 0. 0. 0. 0. 0. 0. 0. 0.]\n",
      " [0. 0. 0. 0. 0. 0. 0. 0. 0. 0.]\n",
      " [0. 0. 0. 0. 0. 0. 0. 0. 0. 0.]]\n"
     ]
    }
   ],
   "source": [
    "#비최대 억제 적용 및 영상 출력\n",
    "for j in range(1, C.shape[0]-1):\n",
    "    for i in range(1, C.shape[1]-1):\n",
    "        if C[j,i]>0.1 and sum(sum(C[j,i]>C[j-1:j+2,i-1:i+2]))==8:\n",
    "            img[j,i]=9\n",
    "np.set_printoptions(precision=2)\n",
    "print(dy)\n",
    "print(dx)\n",
    "print(dyy)\n",
    "print(dxx)\n",
    "print(dyx)\n",
    "print(gdyy)\n",
    "print(gdxx)\n",
    "print(gdyx)\n",
    "print(C)\n",
    "print(img)\n",
    "\n",
    "popping = np.zeros([160,160], np.uint8)\n",
    "for j in range(0,160):\n",
    "    for i in range(0,160):\n",
    "        popping[j,i]=np.uint8((C[j//25,i//25]+0.06)*700)\n",
    "\n",
    "cv.imshow('Image Display', popping)\n",
    "cv.waitKey()\n",
    "cv.destroyAllWindows()"
   ]
  },
  {
   "cell_type": "markdown",
   "id": "38f0ff1a-9ac2-4dec-be77-f2960596fa89",
   "metadata": {},
   "source": [
    "### SIFT 검출과 기술자 추출"
   ]
  },
  {
   "cell_type": "code",
   "execution_count": 4,
   "id": "c8d46a33-be3e-46b9-818a-0e59d5a72d09",
   "metadata": {},
   "outputs": [],
   "source": [
    "import cv2 as cv\n",
    "\n",
    "img = cv.imread('mot_color70.jpg')\n",
    "gray = cv.cvtColor(img, cv.COLOR_BGR2GRAY)\n",
    "\n",
    "sift = cv.SIFT_create()\n",
    "kp, des = sift.detectAndCompute(gray, None)\n",
    "\n",
    "gray = cv.drawKeypoints(gray, kp, None, flags = cv.DRAW_MATCHES_FLAGS_DRAW_RICH_KEYPOINTS)\n",
    "cv.imshow('sift', gray)\n",
    "\n",
    "k = cv.waitKey()\n",
    "cv.destroyAllWindows()"
   ]
  },
  {
   "cell_type": "code",
   "execution_count": 5,
   "id": "623ec493-525a-4032-97ff-ccd17d4d39e0",
   "metadata": {},
   "outputs": [],
   "source": [
    "import cv2 as cv\n",
    "\n",
    "img = cv.imread('mot_color70.jpg')\n",
    "gray = cv.cvtColor(img, cv.COLOR_BGR2GRAY)\n",
    "\n",
    "sift = cv.SIFT_create(nfeatures=0, nOctaveLayers=3, contrastThreshold=0.04,\n",
    "                     edgeThreshold=10, sigma=1.6)\n",
    "kp, des = sift.detectAndCompute(gray, None)\n",
    "\n",
    "gray = cv.drawKeypoints(gray, kp, None, flags = cv.DRAW_MATCHES_FLAGS_DRAW_RICH_KEYPOINTS)\n",
    "cv.imshow('sift', gray)\n",
    "\n",
    "k = cv.waitKey()\n",
    "cv.destroyAllWindows()"
   ]
  },
  {
   "cell_type": "code",
   "execution_count": 6,
   "id": "f006f78b-581b-4e96-80ff-9fbd2a573124",
   "metadata": {},
   "outputs": [],
   "source": [
    "import cv2 as cv\n",
    "\n",
    "img = cv.imread('mot_color70.jpg')\n",
    "gray = cv.cvtColor(img, cv.COLOR_BGR2GRAY)\n",
    "\n",
    "sift = cv.SIFT_create(nfeatures=0, nOctaveLayers=3, contrastThreshold=0.04,\n",
    "                     edgeThreshold=10, sigma=1.6)\n",
    "kp = sift.detect(gray, None)\n",
    "des = sift.compute(gray,kp)\n",
    "\n",
    "gray = cv.drawKeypoints(gray, kp, None, flags = cv.DRAW_MATCHES_FLAGS_DRAW_RICH_KEYPOINTS)\n",
    "cv.imshow('sift', gray)\n",
    "\n",
    "k = cv.waitKey()\n",
    "cv.destroyAllWindows()"
   ]
  },
  {
   "cell_type": "markdown",
   "id": "c15dc98f-d19e-4d7f-8fe9-8a10d79af36f",
   "metadata": {},
   "source": [
    "### SURF 알고리즘"
   ]
  },
  {
   "cell_type": "code",
   "execution_count": 7,
   "id": "156690bb-2e4b-4134-8c1e-4ef74e0a8c00",
   "metadata": {},
   "outputs": [
    {
     "ename": "AttributeError",
     "evalue": "module 'cv2' has no attribute 'xfeatures2d'",
     "output_type": "error",
     "traceback": [
      "\u001b[1;31m---------------------------------------------------------------------------\u001b[0m",
      "\u001b[1;31mAttributeError\u001b[0m                            Traceback (most recent call last)",
      "Cell \u001b[1;32mIn[7], line 3\u001b[0m\n\u001b[0;32m      1\u001b[0m photo \u001b[38;5;241m=\u001b[39m cv\u001b[38;5;241m.\u001b[39mimread(\u001b[38;5;124m'\u001b[39m\u001b[38;5;124mmot_color70.jpg\u001b[39m\u001b[38;5;124m'\u001b[39m)\n\u001b[0;32m      2\u001b[0m \u001b[38;5;66;03m#SURF 알고리즘 객체 생성\u001b[39;00m\n\u001b[1;32m----> 3\u001b[0m feature \u001b[38;5;241m=\u001b[39m \u001b[43mcv\u001b[49m\u001b[38;5;241;43m.\u001b[39;49m\u001b[43mxfeatures2d\u001b[49m\u001b[38;5;241m.\u001b[39mSURF_create(\u001b[38;5;241m500\u001b[39m)\n\u001b[0;32m      4\u001b[0m \u001b[38;5;66;03m#각 이미지에서 키포인트 추출\u001b[39;00m\n\u001b[0;32m      5\u001b[0m keyPoint01, descriptors01 \u001b[38;5;241m=\u001b[39m feature\u001b[38;5;241m.\u001b[39mdetectAndCompute(photo01, \u001b[38;5;28;01mNone\u001b[39;00m)\n",
      "\u001b[1;31mAttributeError\u001b[0m: module 'cv2' has no attribute 'xfeatures2d'"
     ]
    }
   ],
   "source": [
    "photo = cv.imread('mot_color70.jpg')\n",
    "#SURF 알고리즘 객체 생성\n",
    "feature = cv.xfeatures2d.SURF_create(500)\n",
    "#각 이미지에서 키포인트 추출\n",
    "keyPoint01, descriptors01 = feature.detectAndCompute(photo01, None)\n",
    "keyPoint02, descriptors02 = feature.detectAndCompute(photo02, None)\n",
    "\n",
    "#Brute-force 방식으로 매칭\n",
    "matcher = cv.BFMatcher(cv2.NORM_L1, True)\n",
    "matches = matcher.match(descriptors01, descriptors02)\n",
    "\n",
    "#키포인트 및 매칭 결과를 이미지에 그리기\n",
    "keyPointImage01 = cv.drawKeypoints(photo, keyPoint1, None, None, cv.DRAW_MATCHES_FLAGS_DEFAULT)\n",
    "keyPointImage02 = cv.drawKeypoints(photo, keyPoint2, None, None, cv.DRAW_MATCHES_FLAGS_DEFAULT)\n",
    "matchImage = cv.drawMatches(photo, keyPoint01, photo, keyPoint02, matches, None)\n",
    "\n",
    "cv.imshow(\"keyPoint Image 01\", keyPointImage01)\n",
    "cv.imshow(\"keyPoint Image 02\", keyPointImage02)\n",
    "cv.imshow(\"match Image\", matchImage)\n",
    "cv.waitKey(0)"
   ]
  },
  {
   "cell_type": "markdown",
   "id": "68e4b661-87d5-4de0-b1bb-6f042c8399a4",
   "metadata": {},
   "source": [
    "### FLANN 라이브러리를 이용한 SIFT 매칭"
   ]
  },
  {
   "cell_type": "code",
   "execution_count": 8,
   "id": "e5b67cff-578d-4d28-92bd-1a83042d67a4",
   "metadata": {},
   "outputs": [
    {
     "name": "stdout",
     "output_type": "stream",
     "text": [
      "특징점 개수: 231 4096\n",
      "매칭에 걸린 시간: 0.05569958686828613\n"
     ]
    }
   ],
   "source": [
    "import cv2 as cv\n",
    "import numpy as np\n",
    "import time\n",
    "\n",
    "img1 = cv.imread('mot_color70.jpg')[190:350, 440:560]\n",
    "gray1 = cv.cvtColor(img1, cv.COLOR_BGR2GRAY)\n",
    "img2 = cv.imread('mot_color83.jpg')\n",
    "gray2 = cv.cvtColor(img2, cv.COLOR_BGR2GRAY)\n",
    "\n",
    "sift = cv.SIFT_create()\n",
    "kp1, des1 = sift.detectAndCompute(gray1, None)\n",
    "kp2, des2 = sift.detectAndCompute(gray2, None)\n",
    "print('특징점 개수:', len(kp1), len(kp2))\n",
    "\n",
    "start = time.time()\n",
    "flann_matcher = cv.DescriptorMatcher_create(cv.DescriptorMatcher_FLANNBASED)\n",
    "knn_match = flann_matcher.knnMatch(des1, des2,2)\n",
    "\n",
    "T = 0.7\n",
    "good_match = []\n",
    "for nearest1, nearest2 in knn_match:\n",
    "    if (nearest1.distance/nearest2.distance)<T:\n",
    "        good_match.append(nearest1)\n",
    "print('매칭에 걸린 시간:', time.time()-start)\n",
    "\n",
    "img_match = np.empty((max(img1.shape[0], img2.shape[0]), img1.shape[1]+img2.shape[1],3),dtype=np.uint8)\n",
    "cv.drawMatches(img1, kp1, img2, kp2, good_match, img_match, flags = cv.DrawMatchesFlags_NOT_DRAW_SINGLE_POINTS)\n",
    "\n",
    "cv.imshow('Good Matches', img_match)\n",
    "\n",
    "k = cv.waitKey()\n",
    "cv.destroyAllWindows()"
   ]
  },
  {
   "cell_type": "code",
   "execution_count": 12,
   "id": "1aac8ba5-9ba6-423b-9233-bb6442e4f23e",
   "metadata": {},
   "outputs": [
    {
     "name": "stdout",
     "output_type": "stream",
     "text": [
      "Requirement already satisfied: opencv-python in c:\\users\\tnv59\\appdata\\local\\anaconda3\\envs\\open_env\\lib\\site-packages (4.8.1.78)\n",
      "Collecting opencv-python\n",
      "  Downloading opencv_python-4.9.0.80-cp37-abi3-win_amd64.whl.metadata (20 kB)\n",
      "Requirement already satisfied: numpy>=1.17.0 in c:\\users\\tnv59\\appdata\\local\\anaconda3\\envs\\open_env\\lib\\site-packages (from opencv-python) (1.26.2)\n",
      "Downloading opencv_python-4.9.0.80-cp37-abi3-win_amd64.whl (38.6 MB)\n",
      "   ---------------------------------------- 0.0/38.6 MB ? eta -:--:--\n",
      "   ---------------------------------------- 0.0/38.6 MB ? eta -:--:--\n",
      "   ---------------------------------------- 0.1/38.6 MB 1.7 MB/s eta 0:00:23\n",
      "    --------------------------------------- 0.5/38.6 MB 5.6 MB/s eta 0:00:07\n",
      "   - -------------------------------------- 1.1/38.6 MB 7.9 MB/s eta 0:00:05\n",
      "   - -------------------------------------- 1.9/38.6 MB 9.8 MB/s eta 0:00:04\n",
      "   -- ------------------------------------- 2.8/38.6 MB 11.8 MB/s eta 0:00:04\n",
      "   ---- ----------------------------------- 4.0/38.6 MB 14.1 MB/s eta 0:00:03\n",
      "   ----- ---------------------------------- 5.6/38.6 MB 16.9 MB/s eta 0:00:02\n",
      "   ------- -------------------------------- 7.5/38.6 MB 19.9 MB/s eta 0:00:02\n",
      "   --------- ------------------------------ 9.6/38.6 MB 22.7 MB/s eta 0:00:02\n",
      "   ------------- -------------------------- 12.9/38.6 MB 43.7 MB/s eta 0:00:01\n",
      "   ---------------- ----------------------- 15.7/38.6 MB 54.4 MB/s eta 0:00:01\n",
      "   ---------------- ----------------------- 15.7/38.6 MB 54.4 MB/s eta 0:00:01\n",
      "   ----------------- ---------------------- 16.6/38.6 MB 40.9 MB/s eta 0:00:01\n",
      "   -------------------- ------------------- 19.5/38.6 MB 43.7 MB/s eta 0:00:01\n",
      "   ---------------------- ----------------- 22.0/38.6 MB 43.7 MB/s eta 0:00:01\n",
      "   ------------------------- -------------- 25.0/38.6 MB 40.9 MB/s eta 0:00:01\n",
      "   ------------------------------ --------- 29.0/38.6 MB 65.2 MB/s eta 0:00:01\n",
      "   ---------------------------------- ----- 33.4/38.6 MB 81.8 MB/s eta 0:00:01\n",
      "   ---------------------------------------  37.7/38.6 MB 93.9 MB/s eta 0:00:01\n",
      "   ---------------------------------------  38.6/38.6 MB 81.8 MB/s eta 0:00:01\n",
      "   ---------------------------------------- 38.6/38.6 MB 54.4 MB/s eta 0:00:00\n",
      "Installing collected packages: opencv-python\n",
      "  Attempting uninstall: opencv-python\n",
      "    Found existing installation: opencv-python 4.8.1.78\n",
      "    Uninstalling opencv-python-4.8.1.78:\n",
      "      Successfully uninstalled opencv-python-4.8.1.78\n",
      "Successfully installed opencv-python-4.9.0.80\n"
     ]
    },
    {
     "name": "stderr",
     "output_type": "stream",
     "text": [
      "  WARNING: Failed to remove contents in a temporary directory 'C:\\Users\\tnv59\\AppData\\Local\\anaconda3\\envs\\open_env\\Lib\\site-packages\\~v2'.\n",
      "  You can safely remove it manually.\n"
     ]
    }
   ],
   "source": [
    "!pip install --upgrade opencv-python"
   ]
  },
  {
   "cell_type": "code",
   "execution_count": 13,
   "id": "db002b99-5a8c-4968-bbb3-3131285a886e",
   "metadata": {},
   "outputs": [
    {
     "name": "stdout",
     "output_type": "stream",
     "text": [
      "Collecting opencv-contrib-python\n",
      "  Using cached opencv_contrib_python-4.9.0.80-cp37-abi3-win_amd64.whl.metadata (20 kB)\n",
      "Requirement already satisfied: numpy>=1.17.0 in c:\\users\\tnv59\\appdata\\local\\anaconda3\\envs\\open_env\\lib\\site-packages (from opencv-contrib-python) (1.26.2)\n",
      "Using cached opencv_contrib_python-4.9.0.80-cp37-abi3-win_amd64.whl (45.3 MB)\n",
      "Installing collected packages: opencv-contrib-python\n",
      "Successfully installed opencv-contrib-python-4.9.0.80\n"
     ]
    }
   ],
   "source": [
    "!pip install opencv-contrib-python"
   ]
  },
  {
   "cell_type": "markdown",
   "id": "726fb2f7-0d4e-458d-8953-f97a312bfdc5",
   "metadata": {},
   "source": [
    "### FAISS 라이브러리"
   ]
  },
  {
   "cell_type": "code",
   "execution_count": 14,
   "id": "2c01b73c-9d29-4f42-80eb-3ad104b2acf9",
   "metadata": {},
   "outputs": [
    {
     "ename": "AttributeError",
     "evalue": "module 'cv2' has no attribute 'xfeatures2d'",
     "output_type": "error",
     "traceback": [
      "\u001b[1;31m---------------------------------------------------------------------------\u001b[0m",
      "\u001b[1;31mAttributeError\u001b[0m                            Traceback (most recent call last)",
      "Cell \u001b[1;32mIn[14], line 7\u001b[0m\n\u001b[0;32m      4\u001b[0m gray2 \u001b[38;5;241m=\u001b[39m cv\u001b[38;5;241m.\u001b[39mcvtColor(img2, cv\u001b[38;5;241m.\u001b[39mCOLOR_BGR2GRAY)\n\u001b[0;32m      6\u001b[0m \u001b[38;5;66;03m# SIFT 생성\u001b[39;00m\n\u001b[1;32m----> 7\u001b[0m detector \u001b[38;5;241m=\u001b[39m \u001b[43mcv\u001b[49m\u001b[38;5;241;43m.\u001b[39;49m\u001b[43mxfeatures2d\u001b[49m\u001b[38;5;241m.\u001b[39mSIFT_create()\n\u001b[0;32m      8\u001b[0m \u001b[38;5;66;03m# 키 포인트와 서술자 추출\u001b[39;00m\n\u001b[0;32m      9\u001b[0m kp1, desc1 \u001b[38;5;241m=\u001b[39m detector\u001b[38;5;241m.\u001b[39mdetectAndCompute(gray1, \u001b[38;5;28;01mNone\u001b[39;00m)\n",
      "\u001b[1;31mAttributeError\u001b[0m: module 'cv2' has no attribute 'xfeatures2d'"
     ]
    }
   ],
   "source": [
    "img1 = cv.imread('mot_color70.jpg')[190:350, 440:560]\n",
    "img2 = cv.imread('mot_color83.jpg')\n",
    "gray1 = cv.cvtColor(img1, cv.COLOR_BGR2GRAY)\n",
    "gray2 = cv.cvtColor(img2, cv.COLOR_BGR2GRAY)\n",
    "\n",
    "# SIFT 생성\n",
    "detector = cv.xfeatures2d.SIFT_create()\n",
    "# 키 포인트와 서술자 추출\n",
    "kp1, desc1 = detector.detectAndCompute(gray1, None)\n",
    "kp2, desc2 = detector.detectAndCompute(gray2, None)\n",
    "\n",
    "# 인덱스 파라미터와 검색 파라미터 설정 ---①\n",
    "FLANN_INDEX_KDTREE = 1\n",
    "index_params = dict(algorithm=FLANN_INDEX_KDTREE, trees=5)\n",
    "search_params = dict(checks=50)\n",
    "\n",
    "# Flann 매처 생성 ---③\n",
    "matcher = cv.FlannBasedMatcher(index_params, search_params)\n",
    "# 매칭 계산 ---④\n",
    "matches = matcher.match(desc1, desc2)\n",
    "# 매칭 그리기\n",
    "res = cv.drawMatches(img1, kp1, img2, kp2, matches, None, \\\n",
    "                flags=cv2.DRAW_MATCHES_FLAGS_NOT_DRAW_SINGLE_POINTS)\n",
    "\n",
    "cv2.imshow('Flann + SIFT', res)\n",
    "cv2.waitKey()\n",
    "cv2.destroyAllWindows()"
   ]
  },
  {
   "cell_type": "code",
   "execution_count": 16,
   "id": "fff0e8c0-560a-495b-84f4-2d66d607aebc",
   "metadata": {},
   "outputs": [
    {
     "ename": "AttributeError",
     "evalue": "module 'cv2' has no attribute 'xfeatures2d'",
     "output_type": "error",
     "traceback": [
      "\u001b[1;31m---------------------------------------------------------------------------\u001b[0m",
      "\u001b[1;31mAttributeError\u001b[0m                            Traceback (most recent call last)",
      "Cell \u001b[1;32mIn[16], line 7\u001b[0m\n\u001b[0;32m      4\u001b[0m gray2 \u001b[38;5;241m=\u001b[39m cv\u001b[38;5;241m.\u001b[39mcvtColor(img2, cv\u001b[38;5;241m.\u001b[39mCOLOR_BGR2GRAY)\n\u001b[0;32m      6\u001b[0m \u001b[38;5;66;03m# SIFT 생성\u001b[39;00m\n\u001b[1;32m----> 7\u001b[0m detector \u001b[38;5;241m=\u001b[39m \u001b[43mcv\u001b[49m\u001b[38;5;241;43m.\u001b[39;49m\u001b[43mxfeatures2d\u001b[49m\u001b[38;5;241m.\u001b[39mSIFT_create()\n\u001b[0;32m      8\u001b[0m \u001b[38;5;66;03m# 키 포인트와 서술자 추출\u001b[39;00m\n\u001b[0;32m      9\u001b[0m kp1, desc1 \u001b[38;5;241m=\u001b[39m detector\u001b[38;5;241m.\u001b[39mdetectAndCompute(gray1, \u001b[38;5;28;01mNone\u001b[39;00m)\n",
      "\u001b[1;31mAttributeError\u001b[0m: module 'cv2' has no attribute 'xfeatures2d'"
     ]
    }
   ],
   "source": [
    "img1 = cv.imread('mot_color70.jpg')[190:350, 440:560]\n",
    "img2 = cv.imread('mot_color83.jpg')\n",
    "gray1 = cv.cvtColor(img1, cv.COLOR_BGR2GRAY)\n",
    "gray2 = cv.cvtColor(img2, cv.COLOR_BGR2GRAY)\n",
    "\n",
    "# SIFT 생성\n",
    "detector = cv.xfeatures2d.SIFT_create()\n",
    "# 키 포인트와 서술자 추출\n",
    "kp1, desc1 = detector.detectAndCompute(gray1, None)\n",
    "kp2, desc2 = detector.detectAndCompute(gray2, None)\n",
    "\n",
    "sift = cv.SIFT_create()\n",
    "kp1, des1 = sift.detectAndCompute(gray1, None)\n",
    "kp2, des2 = sift.detectAndCompute(gray2, None)\n",
    "\n",
    "start = time.time()\n",
    "flann_matcher = cv.DescriptorMatcher_create(cv.DescriptorMatcher_FLANNBASED)\n",
    "knn_match = flann_matcher.knnMatch(des1, des2,2)\n",
    "\n",
    "T = 0.7\n",
    "good_match = []\n",
    "for nearest1, nearest2 in knn_match:\n",
    "    if (nearest1.distance/nearest2.distance)<T:\n",
    "        good_match.append(nearest1)\n",
    "\n",
    "points1 = np.float32([kp1[gm.queryIdx].pt for gm in good_match])\n",
    "points2 = np.float32([kp2[gm.queryIdx].pt for gm in good_match])\n",
    "H, _ = cv.findHomograpy(points1, points2, cv.RANSAC)\n",
    "\n",
    "h1, w1 = img1.shape[0], img1.shape[1]\n",
    "h2, w2 = img2.shape[0], img2.shape[1]\n",
    "\n",
    "box1 = np.float32([[0,0], [0,h1-1], [w1-1, h1-1], [w1-1,0]]).reshape(4,1,2)\n",
    "box2 = cv.perspectiveTransform(box1, H)\n",
    "\n",
    "img2 = cv.polylines(img2, [np.int32(box2)], True, (0,255,0), 8)\n",
    "\n",
    "img_match = np.empty((max(h1,h2), w1+w2, 3), dtype=np.uint8)\n",
    "cv.drawMatches(img1, kp1, img2, kp2, good_match, img_match, flags = cv.DrawMatchesFlags_NOT_DRAW_SINGLE_POINTS)\n",
    "\n",
    "cv.imshow('Matches and Homography', img_match)\n",
    "\n",
    "k = cv.waitKey()\n",
    "cv.destroyAllWindows()"
   ]
  }
 ],
 "metadata": {
  "kernelspec": {
   "display_name": "open_practice",
   "language": "python",
   "name": "opencv"
  },
  "language_info": {
   "codemirror_mode": {
    "name": "ipython",
    "version": 3
   },
   "file_extension": ".py",
   "mimetype": "text/x-python",
   "name": "python",
   "nbconvert_exporter": "python",
   "pygments_lexer": "ipython3",
   "version": "3.9.18"
  }
 },
 "nbformat": 4,
 "nbformat_minor": 5
}
