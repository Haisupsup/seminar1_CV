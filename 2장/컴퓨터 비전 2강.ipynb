{
 "cells": [
  {
   "cell_type": "markdown",
   "id": "e3c278cf-855d-4dbd-bf72-a8c69a9c8a59",
   "metadata": {},
   "source": [
    "## CV 기초"
   ]
  },
  {
   "cell_type": "code",
   "execution_count": 1,
   "id": "e1ef9ffc-4a98-4120-a010-3679574d1b08",
   "metadata": {},
   "outputs": [
    {
     "name": "stdout",
     "output_type": "stream",
     "text": [
      "[ 4  5  0  1  2  3  6  7  8  9 10 11]\n",
      "<class 'numpy.ndarray'>\n",
      "(12,)\n",
      "[ 0  1  2  3  4  5  6  7  8  9 10 11]\n",
      "[-4.3  -2.3  -1.2   8.99 10.1  12.9 ]\n",
      "['five' 'four' 'one' 'seven' 'six' 'three' 'two']\n"
     ]
    }
   ],
   "source": [
    "import numpy as np\n",
    "\n",
    "a = np.array([4,5,0,1,2,3,6,7,8,9,10,11])\n",
    "print(a)\n",
    "print(type(a))\n",
    "print(a.shape)\n",
    "a.sort()\n",
    "print(a)\n",
    "0\n",
    "b = np.array([-4.3,-2.3,12.9,8.99,10.1,-1.2])\n",
    "b.sort()\n",
    "print(b)\n",
    "\n",
    "c = np.array(['one','two','three','four','five','six','seven'])\n",
    "c.sort()\n",
    "print(c)"
   ]
  },
  {
   "cell_type": "code",
   "execution_count": 2,
   "id": "fc62fc1c-63af-443a-8e7d-6dca845569e9",
   "metadata": {},
   "outputs": [],
   "source": [
    "import cv2 as cv\n",
    "import sys"
   ]
  },
  {
   "cell_type": "code",
   "execution_count": 3,
   "id": "3d81dba7-5b87-489b-9c5a-407aebd42280",
   "metadata": {},
   "outputs": [],
   "source": [
    "#이미지 표시하기\n",
    "\n",
    "img = cv.imread(\"me.jpg\")\n",
    "img = cv.resize(img, dsize=(0,0), fx = 0.25, fy= 0.25) #1번 방법\n",
    "img = cv.resize(img, dsize=(200,300)) #2번 방법\n",
    "if img is None:\n",
    "    sys.exit('파일을 찾을 수 없습니다')\n",
    "\n",
    "cv.imshow('Image Display', img)\n",
    "\n",
    "cv.waitKey()\n",
    "cv.destroyAllWindows()"
   ]
  },
  {
   "cell_type": "code",
   "execution_count": 4,
   "id": "206c8644-9a43-4d7d-8b6a-0474b3112a9a",
   "metadata": {},
   "outputs": [
    {
     "name": "stdout",
     "output_type": "stream",
     "text": [
      "<class 'numpy.ndarray'>\n",
      "(300, 200, 3)\n"
     ]
    }
   ],
   "source": [
    "print(type(img))\n",
    "print(img.shape)"
   ]
  },
  {
   "cell_type": "code",
   "execution_count": 5,
   "id": "5ff4ec1a-1d9e-47ba-8026-f7a039478ad0",
   "metadata": {},
   "outputs": [
    {
     "name": "stdout",
     "output_type": "stream",
     "text": [
      "166 180 186\n",
      "164 178 185\n"
     ]
    }
   ],
   "source": [
    "#화솟값 조사\n",
    "print(img[0,0,0], img[0,0,1], img[0,0,2]) #(0,0)의 화솟값\n",
    "print(img[0,1,0], img[0,1,1], img[0,1,2]) #(0,1)의 화솟값"
   ]
  },
  {
   "cell_type": "code",
   "execution_count": 6,
   "id": "9523ffb6-22e3-4c5a-9cd1-595400ab58bb",
   "metadata": {},
   "outputs": [],
   "source": [
    "#이미지 형태 변환\n",
    "img = cv.imread('bear.jpg')\n",
    "gray = cv.cvtColor(img, cv.COLOR_BGR2GRAY)\n",
    "gray_small = cv.resize(gray, dsize=(0,0), fx=0.5, fy=0.5)\n",
    "cv.imwrite('goriz.jpg', gray)\n",
    "cv.imwrite('go_samll.jpg', gray_small)\n",
    "\n",
    "cv.imshow('Color', img)\n",
    "cv.imshow('Gray', gray)\n",
    "cv.imshow('Graysmall', gray_small)\n",
    "\n",
    "cv.waitKey()\n",
    "cv.destroyAllWindows()"
   ]
  },
  {
   "cell_type": "code",
   "execution_count": 19,
   "id": "77e5b345-c088-49af-9d4a-83ea45dcdcba",
   "metadata": {},
   "outputs": [],
   "source": [
    "#크기 변환 방법\n",
    "img = cv.imread('me.jpg')\n",
    "img = cv.resize(img, dsize=(200,300))\n",
    "dst = cv.resize(img, None, fx=0.5, fy=0.5, interpolation=cv.INTER_AREA) #영상 축소시 효과적인 함수\n",
    "dst_1 = cv.resize(img, None, fx=1.5, fy=1.5, interpolation=cv.INTER_CUBIC) #3차회선 보간법\n",
    "## cv.INTER_LINEAR, cv.INTER_LANCZOS4\n",
    "cv.imshow('img', img)\n",
    "cv.imshow('resize1', dst)\n",
    "cv.imshow('resize2', dst_1)\n",
    "\n",
    "cv.waitKey()\n",
    "cv.destroyAllWindows()"
   ]
  },
  {
   "cell_type": "markdown",
   "id": "1e0ef129-9469-4fed-a8e4-deb80168130b",
   "metadata": {},
   "source": [
    "## 비디오로도 진행해보기"
   ]
  },
  {
   "cell_type": "code",
   "execution_count": 6,
   "id": "39770780-bacf-42aa-a2ae-c400c1bcc5d0",
   "metadata": {},
   "outputs": [],
   "source": [
    "cap = cv.VideoCapture(0, cv.CAP_DSHOW)\n",
    "if not cap.isOpened():\n",
    "    sys.exit(\"카메라 연결 실패\")\n",
    "while True:\n",
    "    ret, frame=cap.read()\n",
    "    if not ret:\n",
    "        print(\"프레임 흭득에 실패하여 루프를 나갑니다.\")\n",
    "        break\n",
    "\n",
    "    cv.imshow(\"Video\", frame)\n",
    "\n",
    "    key = cv.waitKey(1)\n",
    "    if key == ord('q'):\n",
    "        break\n",
    "\n",
    "cap.release()\n",
    "cv.destroyAllWindows()"
   ]
  },
  {
   "cell_type": "code",
   "execution_count": 8,
   "id": "bfabe9b9-d57c-46aa-a724-59ee6d6bf295",
   "metadata": {},
   "outputs": [],
   "source": [
    "import numpy as np\n",
    "cap = cv.VideoCapture(0, cv.CAP_DSHOW)\n",
    "\n",
    "if not cap.isOpened():\n",
    "    sys.exit(\"카메라 연결 실패\")\n",
    "frames = []\n",
    "while True:\n",
    "    ret, frame = cap.read()\n",
    "\n",
    "    if not ret:\n",
    "        print(\"프레임 흭득에 실패하여 루프를 나갑니다\")\n",
    "        break\n",
    "\n",
    "    cv.imshow(\"Video\", frame)\n",
    "\n",
    "    key = cv.waitKey(1)\n",
    "    if key==ord('c'):\n",
    "        frames.append(frame)\n",
    "    elif key==ord('q'):\n",
    "        break\n",
    "\n",
    "cap.release()\n",
    "cv.destroyAllWindows()\n",
    "\n",
    "if len(frames)>0:\n",
    "    imgs=frames[0]\n",
    "    for i in range(1, min(3, len(frames))):\n",
    "        imgs = np.hstack((imgs, frames[i]))\n",
    "\n",
    "    cv.imshow('collected images', imgs)\n",
    "\n",
    "    cv.waitKey()\n",
    "    cv.destroyAllWindows()"
   ]
  }
 ],
 "metadata": {
  "kernelspec": {
   "display_name": "vision",
   "language": "python",
   "name": "vision"
  },
  "language_info": {
   "codemirror_mode": {
    "name": "ipython",
    "version": 3
   },
   "file_extension": ".py",
   "mimetype": "text/x-python",
   "name": "python",
   "nbconvert_exporter": "python",
   "pygments_lexer": "ipython3",
   "version": "3.8.18"
  }
 },
 "nbformat": 4,
 "nbformat_minor": 5
}
