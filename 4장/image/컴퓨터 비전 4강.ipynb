{
 "cells": [
  {
   "cell_type": "code",
   "execution_count": 1,
   "id": "f358cc63-2619-4c74-938c-8d6d2b7ade0f",
   "metadata": {},
   "outputs": [],
   "source": [
    "#소벨 에지 검출(Sobel 함수 사용)하기\n",
    "import cv2 as cv\n",
    "\n",
    "img = cv.imread('soccer.jpg')\n",
    "gray = cv.cvtColor(img, cv.COLOR_BGR2GRAY)\n",
    "gray_x = cv.Sobel(gray, cv.CV_32F, 1,0,ksize=3) #(결과 영상을 32비트 실수 맵에 저장하라고 지시, x방향 연산자 사용지시, 3*3크기)\n",
    "gray_y = cv.Sobel(gray, cv.CV_32F, 0,1,ksize=3) #(결과 영상을 32비트 실수 맵에 저장하라고 지시, y방향 연산자 사용지시, 3*3크기)\n",
    "\n",
    "sobel_x = cv.convertScaleAbs(gray_x) #절댓값을 취해 양수 영상으로 전환\n",
    "sobel_y = cv.convertScaleAbs(gray_y)\n",
    "\n",
    "edge_strength = cv.addWeighted(sobel_x, 0.5, sobel_y, 0.5, 0) #에지 강도 계산\n",
    "\n",
    "cv.imshow('Original', gray)\n",
    "cv.imshow('sobelx', sobel_x)\n",
    "cv.imshow('sobely', sobel_y)\n",
    "cv.imshow('edge strength', edge_strength)\n",
    "\n",
    "cv.waitKey()\n",
    "cv.destroyAllWindows()"
   ]
  },
  {
   "cell_type": "code",
   "execution_count": 2,
   "id": "8cb1694e-3d81-4db0-a19c-f6c33e9f0607",
   "metadata": {},
   "outputs": [],
   "source": [
    "#캐니 에지 실험하기\n",
    "img = cv.imread('soccer.jpg')\n",
    "img = cv.resize(img, dsize=(0,0), fx=0.25, fy=0.25)\n",
    "gray = cv.cvtColor(img, cv.COLOR_BGR2GRAY)\n",
    "\n",
    "canny1 = cv.Canny(gray,50,150)\n",
    "canny2 = cv.Canny(gray,100,200)\n",
    "\n",
    "cv.imshow('Original', gray)\n",
    "cv.imshow('Canny1', canny1)\n",
    "cv.imshow('Canny2', canny2)\n",
    "\n",
    "cv.waitKey()\n",
    "cv.destroyAllWindows()"
   ]
  },
  {
   "cell_type": "code",
   "execution_count": 4,
   "id": "92d71073-e454-408c-bbae-10b08e22b2e9",
   "metadata": {},
   "outputs": [],
   "source": [
    "import cv2\n",
    "\n",
    "def empty(pos):\n",
    "    pass\n",
    "name = 'Trackbar'\n",
    "cv2.namedWindow(name)\n",
    "cv2.createTrackbar('threshold1', name, 0, 255, empty) # min value\n",
    "cv2.createTrackbar('threshold2', name, 0, 255, empty) # max value\n",
    "\n",
    "while True:\n",
    "    threshold1 = cv2.getTrackbarPos('threshold1', name)\n",
    "    threshold2 = cv2.getTrackbarPos('threshold2', name)\n",
    "    \n",
    "    canny = cv2.Canny(img, threshold1, threshold2)\n",
    "    \n",
    "    cv2.imshow('img', img)\n",
    "    cv2.imshow(name, canny)\n",
    "\n",
    "    if cv2.waitKey(1) == ord('q'):\n",
    "        break\n",
    "    \n",
    "cv2.destroyAllWindows()"
   ]
  },
  {
   "cell_type": "code",
   "execution_count": 5,
   "id": "4d3ac463-9da5-4145-9c14-60a2e108aba9",
   "metadata": {},
   "outputs": [],
   "source": [
    "#에지 맵에서 경계선 찾기\n",
    "import numpy as np\n",
    "canny = cv.Canny(gray, 100, 200)\n",
    "#cv.RETR_LIST로 설정해 맨 바깥쪽 경계선만 찾도록 지시. cv.CHAIN_APPROX_NONE 사용 시 모든 점을 기록.\n",
    "#cv.CHAIN_APPROX_SIMPLE로 설정 시 직선에 대해서는 양 끝점만 기록.\n",
    "#cv.CHAIN_APPROX_TC89_L1 or cv.CHAIN_APPROX_TC89_KCOS는 Tch_Chin 알고리즘으로 굴곡이 심한 점을 찾아 그들만 기록\n",
    "contour, hierarchy = cv.findContours(canny, cv.RETR_LIST, cv.CHAIN_APPROX_NONE)\n",
    "\n",
    "lcontour = []\n",
    "for i in range(len(contour)):\n",
    "    if contour[i].shape[0] >100:\n",
    "        lcontour.append(contour[i])\n",
    "#drawContours(영상, 경계선, 경계선 설정, 색, 두께)\n",
    "cv.drawContours(img, lcontour, -1, (0,255,0), 3)\n",
    "\n",
    "cv.imshow('Original', img)\n",
    "cv.imshow('Canny', canny)\n",
    "\n",
    "cv.waitKey()\n",
    "cv.destroyAllWindows()"
   ]
  },
  {
   "cell_type": "code",
   "execution_count": 6,
   "id": "78740bc7-4beb-4602-ba74-17a0509258cf",
   "metadata": {},
   "outputs": [],
   "source": [
    "#허프 변환을 이용해 사과 검출하기\n",
    "img = cv.imread('apples.jpg')\n",
    "img = cv.resize(img, dsize=(0,0), fx=0.25, fy=0.25)\n",
    "gray = cv.cvtColor(img, cv.COLOR_BGR2GRAY)\n",
    "#cv.HOGGH_GRADIENT는 에지 방향 정보를 추가로 사용하는 방법\n",
    "#3번째 인수는 원 사이의 최소 거리를 지정하는데 작을수록 많은 원이 검출, 5번째 인수는 캐니 에지 알고리즘이 사용하는 T\n",
    "#6번째 인수는 비최대 억제를 적용할 때 쓰는 임곗값, 7,8번째 인수는 원의 최소와 최대 반지름을 지정.\n",
    "apples = cv.HoughCircles(gray, cv.HOUGH_GRADIENT,1,200,param1=150, param2=20,minRadius=50, maxRadius=120)\n",
    "for i in apples[0]:\n",
    "    cv.circle(img, (int(i[0]), int(i[1])), int(i[2]), (255,0,0),2)\n",
    "cv.imshow('Apple', img)\n",
    "cv.waitKey()\n",
    "cv.destroyAllWindows()"
   ]
  },
  {
   "cell_type": "code",
   "execution_count": 7,
   "id": "c2ddfaa3-4780-4b6e-ba78-f8ca2a5a4517",
   "metadata": {},
   "outputs": [
    {
     "name": "stdout",
     "output_type": "stream",
     "text": [
      "Requirement already satisfied: scikit-image in c:\\users\\tnv59\\appdata\\local\\anaconda3\\envs\\open_env\\lib\\site-packages (0.22.0)\n",
      "Requirement already satisfied: numpy>=1.22 in c:\\users\\tnv59\\appdata\\local\\anaconda3\\envs\\open_env\\lib\\site-packages (from scikit-image) (1.26.2)\n",
      "Requirement already satisfied: scipy>=1.8 in c:\\users\\tnv59\\appdata\\local\\anaconda3\\envs\\open_env\\lib\\site-packages (from scikit-image) (1.11.4)\n",
      "Requirement already satisfied: networkx>=2.8 in c:\\users\\tnv59\\appdata\\local\\anaconda3\\envs\\open_env\\lib\\site-packages (from scikit-image) (3.2.1)\n",
      "Requirement already satisfied: pillow>=9.0.1 in c:\\users\\tnv59\\appdata\\local\\anaconda3\\envs\\open_env\\lib\\site-packages (from scikit-image) (10.1.0)\n",
      "Requirement already satisfied: imageio>=2.27 in c:\\users\\tnv59\\appdata\\local\\anaconda3\\envs\\open_env\\lib\\site-packages (from scikit-image) (2.33.1)\n",
      "Requirement already satisfied: tifffile>=2022.8.12 in c:\\users\\tnv59\\appdata\\local\\anaconda3\\envs\\open_env\\lib\\site-packages (from scikit-image) (2023.12.9)\n",
      "Requirement already satisfied: packaging>=21 in c:\\users\\tnv59\\appdata\\roaming\\python\\python39\\site-packages (from scikit-image) (23.1)\n",
      "Requirement already satisfied: lazy_loader>=0.3 in c:\\users\\tnv59\\appdata\\local\\anaconda3\\envs\\open_env\\lib\\site-packages (from scikit-image) (0.3)\n"
     ]
    }
   ],
   "source": [
    "!pip install scikit-image"
   ]
  },
  {
   "cell_type": "code",
   "execution_count": 8,
   "id": "cb1e2804-8aa4-45be-99f8-d183e9f2846e",
   "metadata": {},
   "outputs": [],
   "source": [
    "#SLIC 알고리즘으로 입력 영상을 슈퍼 화소 분할하기\n",
    "import skimage\n",
    "import numpy as np\n",
    "import cv2 as cv\n",
    "\n",
    "img = skimage.data.coffee()\n",
    "cv.imshow('Coffee', cv.cvtColor(img, cv.COLOR_RGB2BGR))\n",
    "#slic함수로 슈퍼 화소 분할 수행, compactness 인수는 슈퍼 화소의 모양을 조절.\n",
    "slic1 = skimage.segmentation.slic(img, compactness=20, n_segments=600)\n",
    "sp_img1 = skimage.segmentation.mark_boundaries(img, slic1)\n",
    "#0~255 사이로 바꾸고 uint8형으로 변환.\n",
    "sp_img1 = np.uint8(sp_img1 * 255.0)\n",
    "\n",
    "slic2 = skimage.segmentation.slic(img, compactness=40, n_segments=600)\n",
    "sp_img2 = skimage.segmentation.mark_boundaries(img, slic2)\n",
    "sp_img2 = np.uint8(sp_img2 * 255.0)\n",
    "\n",
    "cv.imshow('Super pixels (compact 20)', cv.cvtColor(sp_img1, cv.COLOR_RGB2BGR))\n",
    "cv.imshow('Super pixels (compact 40)', cv.cvtColor(sp_img2, cv.COLOR_RGB2BGR))\n",
    "\n",
    "cv.waitKey()\n",
    "cv.destroyAllWindows()"
   ]
  },
  {
   "cell_type": "code",
   "execution_count": 9,
   "id": "189d2555-7f59-4f5a-8346-d9261b09fa52",
   "metadata": {},
   "outputs": [
    {
     "name": "stdout",
     "output_type": "stream",
     "text": [
      "Requirement already satisfied: scikit-image in c:\\users\\tnv59\\appdata\\local\\anaconda3\\envs\\open_env\\lib\\site-packages (0.22.0)\n",
      "Requirement already satisfied: numpy>=1.22 in c:\\users\\tnv59\\appdata\\local\\anaconda3\\envs\\open_env\\lib\\site-packages (from scikit-image) (1.26.2)\n",
      "Requirement already satisfied: scipy>=1.8 in c:\\users\\tnv59\\appdata\\local\\anaconda3\\envs\\open_env\\lib\\site-packages (from scikit-image) (1.11.4)\n",
      "Requirement already satisfied: networkx>=2.8 in c:\\users\\tnv59\\appdata\\local\\anaconda3\\envs\\open_env\\lib\\site-packages (from scikit-image) (3.2.1)\n",
      "Requirement already satisfied: pillow>=9.0.1 in c:\\users\\tnv59\\appdata\\local\\anaconda3\\envs\\open_env\\lib\\site-packages (from scikit-image) (10.1.0)\n",
      "Requirement already satisfied: imageio>=2.27 in c:\\users\\tnv59\\appdata\\local\\anaconda3\\envs\\open_env\\lib\\site-packages (from scikit-image) (2.33.1)\n",
      "Requirement already satisfied: tifffile>=2022.8.12 in c:\\users\\tnv59\\appdata\\local\\anaconda3\\envs\\open_env\\lib\\site-packages (from scikit-image) (2023.12.9)\n",
      "Requirement already satisfied: packaging>=21 in c:\\users\\tnv59\\appdata\\roaming\\python\\python39\\site-packages (from scikit-image) (23.1)\n",
      "Requirement already satisfied: lazy_loader>=0.3 in c:\\users\\tnv59\\appdata\\local\\anaconda3\\envs\\open_env\\lib\\site-packages (from scikit-image) (0.3)\n"
     ]
    }
   ],
   "source": [
    "!pip install -U scikit-image"
   ]
  },
  {
   "cell_type": "code",
   "execution_count": 11,
   "id": "e24a8f27-cedd-4ce5-92df-0aaa1e025852",
   "metadata": {},
   "outputs": [
    {
     "name": "stdout",
     "output_type": "stream",
     "text": [
      "(400, 600, 3)  Coffee 영상을 분할하는데  5.620427131652832 초 소요\n"
     ]
    }
   ],
   "source": [
    "#정규화 절단 알고리즘으로 영역 분할하기\n",
    "import skimage\n",
    "import numpy as np\n",
    "import cv2 as cv\n",
    "import time\n",
    "\n",
    "coffee=skimage.data.coffee()  # coffee 영상을 읽어\n",
    "\n",
    "start=time.time()  # 분할하는 데 걸리는 시간을 측정해 출력\n",
    "slic=skimage.segmentation.slic(coffee,compactness=20,n_segments=600,start_label=1)\n",
    "g=skimage.graph.rag_mean_color(coffee,slic,mode='similarity') \n",
    "ncut=skimage.graph.cut_normalized(slic,g)\t# 정규화 절단\n",
    "print(coffee.shape,' Coffee 영상을 분할하는데 ',time.time()-start,'초 소요')\n",
    "\n",
    "marking=skimage.segmentation.mark_boundaries(coffee,ncut)  # 원래 영상인 coffee에 영역 분할 정보를 담은 ncut 맵을 이용하여 영역 경계를 표 시하고 marking 객체에 저장\n",
    "ncut_coffee=np.uint8(marking*255.0)  # 0~1 사이의 실수를 가진 marking을 0~255 사이의 uint8 형으로 변환\n",
    "\n",
    "cv.imshow('Normalized cut',cv.cvtColor(ncut_coffee,cv.COLOR_RGB2BGR))  # RGB로 표현된 분할 영상을 BGR로 변환하여 윈도우에 디스플레이\n",
    "\n",
    "cv.waitKey()\n",
    "cv.destroyAllWindows()"
   ]
  },
  {
   "cell_type": "code",
   "execution_count": 12,
   "id": "dca63783-4e36-4f99-834a-4cdfbe1905f1",
   "metadata": {},
   "outputs": [
    {
     "data": {
      "text/plain": [
       "27"
      ]
     },
     "execution_count": 12,
     "metadata": {},
     "output_type": "execute_result"
    }
   ],
   "source": [
    "#영역 개수 확인\n",
    "np.unique(ncut)\n",
    "np.unique(ncut).size"
   ]
  },
  {
   "cell_type": "code",
   "execution_count": 14,
   "id": "6c4b1617-a6fd-4322-8675-c2e03750709f",
   "metadata": {},
   "outputs": [],
   "source": [
    "import cv2 as cv \n",
    "import numpy as np\n",
    "\n",
    "img=cv.imread('soccer.jpg')\t# 영상 읽기\n",
    "img_show=np.copy(img)\t\t# 붓 칠을 디스플레이할 목적의 영상\n",
    "\n",
    "mask=np.zeros((img.shape[0],img.shape[1]),np.uint8) \n",
    "mask[:,:]=cv.GC_PR_BGD\t\t# 모든 화소를 배경일 것 같음으로 초기화\n",
    "\n",
    "BrushSiz=9\t\t\t\t# 붓의 크기\n",
    "LColor,RColor=(255,0,0),(0,0,255)\t# 파란색(물체)과 빨간색(배경)\n",
    "\n",
    "def painting(event,x,y,flags,param):\n",
    "    if event==cv.EVENT_LBUTTONDOWN:   \n",
    "        cv.circle(img_show,(x,y),BrushSiz,LColor,-1)\t# 왼쪽 버튼 클릭하면 파란색\n",
    "        cv.circle(mask,(x,y),BrushSiz,cv.GC_FGD,-1)\n",
    "    elif event==cv.EVENT_RBUTTONDOWN: \n",
    "        cv.circle(img_show,(x,y),BrushSiz,RColor,-1)\t# 오른쪽 버튼 클릭하면 빨간색\n",
    "        cv.circle(mask,(x,y),BrushSiz,cv.GC_BGD,-1)\n",
    "    elif event==cv.EVENT_MOUSEMOVE and flags==cv.EVENT_FLAG_LBUTTON:\n",
    "        cv.circle(img_show,(x,y),BrushSiz,LColor,-1)# 왼쪽 버튼 클릭하고 이동하면 파란색\n",
    "        cv.circle(mask,(x,y),BrushSiz,cv.GC_FGD,-1)\n",
    "    elif event==cv.EVENT_MOUSEMOVE and flags==cv.EVENT_FLAG_RBUTTON:\n",
    "        cv.circle(img_show,(x,y),BrushSiz,RColor,-1)\t# 오른쪽 버튼 클릭하고 이동하면 빨간색\n",
    "        cv.circle(mask,(x,y),BrushSiz,cv.GC_BGD,-1)\n",
    "\n",
    "    cv.imshow('Painting',img_show)\n",
    "    \n",
    "cv.namedWindow('Painting')\n",
    "cv.setMouseCallback('Painting',painting)\n",
    "\n",
    "while(True):\t\t\t\t# 붓 칠을 끝내려면 'q' 키를 누름\n",
    "    if cv.waitKey(1)==ord('q'): \n",
    "        break\n",
    "\n",
    "# 여기부터 GrabCut 적용하는 코드\n",
    "background=np.zeros((1,65),np.float64)\t# 배경 히스토그램 0으로 초기화\n",
    "foreground=np.zeros((1,65),np.float64)\t# 물체 히스토그램 0으로 초기화\n",
    "\n",
    "cv.grabCut(img,mask,None,background,foreground,5,cv.GC_INIT_WITH_MASK)\n",
    "mask2=np.where((mask==cv.GC_BGD)|(mask==cv.GC_PR_BGD),0,1).astype('uint8')\n",
    "grab=img*mask2[:,:,np.newaxis]\n",
    "cv.imshow('Grab cut image',grab)  \n",
    "\n",
    "cv.waitKey()\n",
    "cv.destroyAllWindows()"
   ]
  },
  {
   "cell_type": "code",
   "execution_count": 15,
   "id": "a5d4a1ef-0875-45d2-87f3-623e99081732",
   "metadata": {},
   "outputs": [
    {
     "name": "stdout",
     "output_type": "stream",
     "text": [
      "면적= 42390.0 \n",
      "중점=( 187.72464024534088 , 144.43640402610677 ) \n",
      "둘레= 2296.7291333675385 \n",
      "둥근 정도= 0.1009842680321435\n"
     ]
    }
   ],
   "source": [
    "import skimage\n",
    "import numpy as np\n",
    "import cv2 as cv\n",
    "\n",
    "orig=skimage.data.horse()\n",
    "img=255-np.uint8(orig)*255\n",
    "cv.imshow('Horse',img)\n",
    "\n",
    "contours,hierarchy=cv.findContours(img,cv.RETR_EXTERNAL,cv.CHAIN_APPROX_NONE)\n",
    "\n",
    "img2=cv.cvtColor(img,cv.COLOR_GRAY2BGR)\t\t# 컬러 디스플레이용 영상\n",
    "cv.drawContours(img2,contours,-1,(255,0,255),2)\n",
    "cv.imshow('Horse with contour',img2)\n",
    "\n",
    "contour=contours[0]\n",
    "\n",
    "m=cv.moments(contour)\t\t\t\t# 몇 가지 특징 \n",
    "area=cv.contourArea(contour)\n",
    "cx,cy=m['m10']/m['m00'],m['m01']/m['m00']\n",
    "perimeter=cv.arcLength(contour,True)\n",
    "roundness=(4.0*np.pi*area)/(perimeter*perimeter)\n",
    "print('면적=',area,'\\n중점=(',cx,',',cy,')','\\n둘레=',perimeter,'\\n둥근 정도=',roundness)\n",
    "\n",
    "img3=cv.cvtColor(img,cv.COLOR_GRAY2BGR)\t\t# 컬러 디스플레이용 영상\n",
    "\n",
    "contour_approx=cv.approxPolyDP(contour,8,True)\t# 직선 근사\n",
    "cv.drawContours(img3,[contour_approx],-1,(0,255,0),2)\n",
    "\n",
    "hull=cv.convexHull(contour)\t\t\t# 볼록 헐\n",
    "hull=hull.reshape(1,hull.shape[0],hull.shape[2])\n",
    "cv.drawContours(img3,hull,-1,(0,0,255),2)\n",
    "\n",
    "cv.imshow('Horse with line segments and convex hull',img3)\n",
    "\n",
    "cv.waitKey()\n",
    "cv.destroyAllWindows()"
   ]
  }
 ],
 "metadata": {
  "kernelspec": {
   "display_name": "open_practice",
   "language": "python",
   "name": "opencv"
  },
  "language_info": {
   "codemirror_mode": {
    "name": "ipython",
    "version": 3
   },
   "file_extension": ".py",
   "mimetype": "text/x-python",
   "name": "python",
   "nbconvert_exporter": "python",
   "pygments_lexer": "ipython3",
   "version": "3.9.18"
  }
 },
 "nbformat": 4,
 "nbformat_minor": 5
}
